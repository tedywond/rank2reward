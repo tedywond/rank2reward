{
 "cells": [
  {
   "cell_type": "code",
   "execution_count": 18,
   "id": "63f0c4b9",
   "metadata": {},
   "outputs": [],
   "source": [
    "import numpy as np\n",
    "import matplotlib.pyplot as plt\n",
    "import h5py\n",
    "import glob\n",
    "import os\n",
    "\n",
    "from tqdm.notebook import tqdm\n",
    "from PIL import Image\n",
    "\n",
    "data_set = glob.glob('../rank2reward_metaworld/*/*.hdf')\n",
    "target_destination = '../rank2reward/metaworld/'\n",
    "\n",
    "# [os.makedirs(os.path.join(target_destination, x.split('/')[-2])) for x in data_set  if not os.path.exists(os.path.join(target_destination, x.split('/')[-2]))]\n",
    "# [os.makedirs(os.path.join(x,i)) for x in glob.glob(target_destination + '/*') for i in ['train', 'test']]"
   ]
  },
  {
   "cell_type": "code",
   "execution_count": 33,
   "id": "b4c7d16f",
   "metadata": {},
   "outputs": [
    {
     "data": {
      "application/vnd.jupyter.widget-view+json": {
       "model_id": "daef84ba783f49f1a8c7724c596f278c",
       "version_major": 2,
       "version_minor": 0
      },
      "text/plain": [
       "  0%|          | 0/16 [00:00<?, ?it/s]"
      ]
     },
     "metadata": {},
     "output_type": "display_data"
    }
   ],
   "source": [
    "for data in tqdm(data_set):\n",
    "    data_info = data.split('/')\n",
    "    test_train = data_info[-1].split('_')[-2] \n",
    "    test_train = 'train' if test_train == 'expert' else 'test'\n",
    "    task = data_info[-2]\n",
    "    path = os.path.join(target_destination, task, test_train)\n",
    "    \n",
    "    with h5py.File(data, \"r\") as f:\n",
    "        expert_seq = list(f.keys())\n",
    "\n",
    "        for exp in expert_seq:\n",
    "            batch_tensor = f[exp]['s_t']\n",
    "            \n",
    "            for i in range(batch_tensor.shape[0]):\n",
    "                cur_img = batch_tensor[i].transpose(1,2,0)\n",
    "                \n",
    "                final_fldrs = os.path.join(path, str(exp))\n",
    "                if not os.path.exists(final_fldrs): os.makedirs(final_fldrs) \n",
    "                \n",
    "                img_path = os.path.join(path, str(exp), str(i)+'.png')\n",
    "                Image.fromarray(cur_img).save(img_path)"
   ]
  }
 ],
 "metadata": {
  "kernelspec": {
   "display_name": "Python 3 (ipykernel)",
   "language": "python",
   "name": "python3"
  },
  "language_info": {
   "codemirror_mode": {
    "name": "ipython",
    "version": 3
   },
   "file_extension": ".py",
   "mimetype": "text/x-python",
   "name": "python",
   "nbconvert_exporter": "python",
   "pygments_lexer": "ipython3",
   "version": "3.10.12"
  }
 },
 "nbformat": 4,
 "nbformat_minor": 5
}
